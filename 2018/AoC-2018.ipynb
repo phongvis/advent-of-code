{
 "cells": [
  {
   "cell_type": "markdown",
   "metadata": {},
   "source": [
    "# Advent of Code 2018\n",
    "*Phong Nguyen, December 2018*"
   ]
  },
  {
   "cell_type": "markdown",
   "metadata": {},
   "source": [
    "## Lessons Learnt\n"
   ]
  },
  {
   "cell_type": "markdown",
   "metadata": {},
   "source": [
    "### Some utility functions"
   ]
  },
  {
   "cell_type": "code",
   "execution_count": 1,
   "metadata": {},
   "outputs": [],
   "source": [
    "import math\n",
    "import re\n",
    "from collections import deque, defaultdict, Counter\n",
    "from itertools import chain, combinations\n",
    "from heapq import heappop, heappush\n",
    "\n",
    "flatten = chain.from_iterable\n",
    "\n",
    "from numba import jit\n",
    "\n",
    "def Input(day):\n",
    "    \"Return input file.\"\n",
    "    return open('input{}.txt'.format(day))\n",
    "\n",
    "def InputString(day):\n",
    "    \"Return the content of the input file as a string.\"\n",
    "    return Input(day).read()\n",
    "\n",
    "def InputRows(day):\n",
    "    \"Return the content of the input file as a list of string, each for a row.\"\n",
    "    return InputString(day).splitlines()\n",
    "\n",
    "def InputInts(day):\n",
    "    \"Return the content of the input file as a list of integers, each for a row.\"\n",
    "    return [int(x) for x in InputString(day).splitlines()]\n",
    "\n",
    "def ints(start, end, step=1): return range(start, end+1, step)\n",
    "\n",
    "# 2D points\n",
    "UP, LEFT, DOWN, RIGHT = (0, -1), (-1, 0), (0, 1), (1, 0)\n",
    "\n",
    "def add_tuples(t1, t2):\n",
    "     return tuple(sum(x) for x in zip(t1, t2))\n",
    "        \n",
    "def Mht_distance(p):\n",
    "    return abs(p[0]) + abs(p[1])\n",
    "\n",
    "def argmax(a):\n",
    "    return a.index(max(a))\n",
    "\n",
    "def neighbors4(point): \n",
    "    \"The four neighbors (without diagonals).\"\n",
    "    x, y = point\n",
    "    return ((x+1, y), (x-1, y), (x, y+1), (x, y-1))\n",
    "\n",
    "def neighbors8(point): \n",
    "    \"The eight neighbors (with diagonals).\"\n",
    "    x, y = point \n",
    "    return ((x+1, y), (x-1, y), (x, y+1), (x, y-1),\n",
    "            (x+1, y+1), (x-1, y-1), (x+1, y-1), (x-1, y+1))\n",
    "\n",
    "def breadth_first(start, goal, moves_func):\n",
    "    \"Find a shortest sequence of states from start to the goal.\"\n",
    "    frontier = deque([start]) # A queue of states\n",
    "    previous = {start: None}  # start has no previous state; other states will\n",
    "    while frontier:\n",
    "        s = frontier.popleft()\n",
    "        if s == goal:\n",
    "            return path(previous, s)\n",
    "        for s2 in moves_func(s):\n",
    "            if s2 not in previous:\n",
    "                frontier.append(s2)\n",
    "                previous[s2] = s\n",
    "                \n",
    "def path(previous, s): \n",
    "    \"Return a list of states that lead to state s, according to the previous dict.\"\n",
    "    return [] if (s is None) else path(previous, previous[s]) + [s]\n",
    "\n",
    "def astar_search(start, h_func, moves_func):\n",
    "    \"Find a shortest sequence of states from start to a goal state (a state s with h_func(s) == 0).\"\n",
    "    frontier  = [(h_func(start), start)] # A priority queue, ordered by path length, f = g + h\n",
    "    previous  = {start: None}  # start state has no previous state; other states will\n",
    "    path_cost = {start: 0}     # The cost of the best path to a state.\n",
    "\n",
    "    while frontier:\n",
    "        (f, s) = heappop(frontier)\n",
    "        if h_func(s) == 0:\n",
    "            return path(previous, s)\n",
    "        for s2 in moves_func(s):\n",
    "            new_cost = path_cost[s] + 1\n",
    "            if s2 not in path_cost or new_cost < path_cost[s2]:\n",
    "                heappush(frontier, (new_cost + h_func(s2), s2))\n",
    "                path_cost[s2] = new_cost\n",
    "                previous[s2] = s\n",
    "                \n",
    "    return dict(fail=True, front=len(frontier), prev=len(previous))"
   ]
  },
  {
   "cell_type": "markdown",
   "metadata": {},
   "source": [
    "## Day 1: Chronal Calibration\n",
    "[Problem Description](https://adventofcode.com/2018/day/1)"
   ]
  },
  {
   "cell_type": "code",
   "execution_count": 2,
   "metadata": {},
   "outputs": [
    {
     "data": {
      "text/plain": [
       "505"
      ]
     },
     "execution_count": 2,
     "metadata": {},
     "output_type": "execute_result"
    }
   ],
   "source": [
    "def day1a(nums):\n",
    "    return sum(nums)\n",
    "\n",
    "nums = InputInts(1)\n",
    "day1a(nums)"
   ]
  },
  {
   "cell_type": "code",
   "execution_count": 3,
   "metadata": {
    "scrolled": true
   },
   "outputs": [
    {
     "data": {
      "text/plain": [
       "72330"
      ]
     },
     "execution_count": 3,
     "metadata": {},
     "output_type": "execute_result"
    }
   ],
   "source": [
    "def day1b(nums):\n",
    "    seen = set()\n",
    "    f = 0\n",
    "    while True:\n",
    "        for x in nums:\n",
    "            f += x\n",
    "            if f in seen:\n",
    "                return f\n",
    "            else:\n",
    "                seen.add(f)\n",
    "        \n",
    "day1b(nums)"
   ]
  },
  {
   "cell_type": "code",
   "execution_count": 4,
   "metadata": {},
   "outputs": [
    {
     "data": {
      "text/plain": [
       "8892"
      ]
     },
     "execution_count": 4,
     "metadata": {},
     "output_type": "execute_result"
    }
   ],
   "source": [
    "def has_two(text):\n",
    "    return 2 in Counter(text).values()\n",
    "\n",
    "def has_three(text):\n",
    "    return 3 in Counter(text).values()\n",
    "    \n",
    "def day2a(lines):\n",
    "    two = sum(1 for l in lines if has_two(l))\n",
    "    three = sum(1 for l in lines if has_three(l))\n",
    "    return two * three\n",
    "\n",
    "lines = InputRows(2)\n",
    "day2a(lines)"
   ]
  },
  {
   "cell_type": "code",
   "execution_count": 5,
   "metadata": {},
   "outputs": [
    {
     "name": "stdout",
     "output_type": "stream",
     "text": [
      "zihwtxagifpbsnwleydukjmqv\n",
      "CPU times: user 38.1 ms, sys: 1.46 ms, total: 39.5 ms\n",
      "Wall time: 38.5 ms\n"
     ]
    }
   ],
   "source": [
    "def are_correct(t1, t2):\n",
    "    diff_count = 0\n",
    "    for i in range(len(t1)):\n",
    "        if t1[i] != t2[i]:\n",
    "            diff_count += 1\n",
    "        if diff_count > 1:\n",
    "            return False\n",
    "    return diff_count == 1\n",
    "    \n",
    "def day2b(lines):\n",
    "    for c in combinations(lines, 2):\n",
    "        if are_correct(*c):\n",
    "            t1, t2 = c\n",
    "            common_string = ''\n",
    "            for i in range(len(t1)): \n",
    "                if t1[i] == t2[i]: \n",
    "                    common_string += t1[i]\n",
    "            print(common_string)\n",
    "                \n",
    "%time day2b(lines)"
   ]
  },
  {
   "cell_type": "markdown",
   "metadata": {},
   "source": [
    "A shorter way (less code) and also easier to find the common string for the answer is to remove each character and check if the rest of the two strings are the same. It is slower though."
   ]
  },
  {
   "cell_type": "code",
   "execution_count": 6,
   "metadata": {},
   "outputs": [
    {
     "name": "stdout",
     "output_type": "stream",
     "text": [
      "zihwtxagifpbsnwleydukjmqv\n",
      "CPU times: user 585 ms, sys: 6 ms, total: 591 ms\n",
      "Wall time: 586 ms\n"
     ]
    }
   ],
   "source": [
    "%%time\n",
    "\n",
    "for c in combinations(lines, 2):\n",
    "    t1, t2 = c\n",
    "    for i in range(len(t1)):\n",
    "        x1 = t1[:i] + t1[i+1:]\n",
    "        x2 = t2[:i] + t2[i+1:]\n",
    "        if x1 == x2:\n",
    "            print(x1)\n",
    "            break"
   ]
  },
  {
   "cell_type": "markdown",
   "metadata": {},
   "source": [
    "Reading solutions in reddit, I see using `zip` is a neat way of looping through pairs of things. Also, a more pythonic way of summing booleans. So, rewrite my first solution."
   ]
  },
  {
   "cell_type": "code",
   "execution_count": 9,
   "metadata": {},
   "outputs": [
    {
     "name": "stdout",
     "output_type": "stream",
     "text": [
      "zihwtxagifpbsnwleydukjmqv\n",
      "CPU times: user 37.8 ms, sys: 1.62 ms, total: 39.5 ms\n",
      "Wall time: 38 ms\n"
     ]
    }
   ],
   "source": [
    "def are_correct_zip(t1, t2):\n",
    "    return sum(c1 != c2 for c1, c2 in zip(t1, t2)) == 1\n",
    "    \n",
    "def day2b_zip(lines):\n",
    "    for c in combinations(lines, 2):\n",
    "        if are_correct(*c):\n",
    "            common_string = ''.join(c1 for c1, c2 in zip(*c) if c1 == c2)\n",
    "            print(common_string)\n",
    "                \n",
    "%time day2b_zip(lines)"
   ]
  },
  {
   "cell_type": "markdown",
   "metadata": {},
   "source": [
    "Well, it is as fast as the original one, even though it needs to sum up all differences, without early exit."
   ]
  }
 ],
 "metadata": {
  "kernelspec": {
   "display_name": "Python 3",
   "language": "python",
   "name": "python3"
  },
  "language_info": {
   "codemirror_mode": {
    "name": "ipython",
    "version": 3
   },
   "file_extension": ".py",
   "mimetype": "text/x-python",
   "name": "python",
   "nbconvert_exporter": "python",
   "pygments_lexer": "ipython3",
   "version": "3.6.4"
  },
  "toc": {
   "base_numbering": 1,
   "nav_menu": {},
   "number_sections": false,
   "sideBar": true,
   "skip_h1_title": true,
   "title_cell": "Contents",
   "title_sidebar": "Contents",
   "toc_cell": false,
   "toc_position": {},
   "toc_section_display": true,
   "toc_window_display": false
  }
 },
 "nbformat": 4,
 "nbformat_minor": 2
}
