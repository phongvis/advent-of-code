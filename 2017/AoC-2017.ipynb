{
 "cells": [
  {
   "cell_type": "markdown",
   "metadata": {},
   "source": [
    "# Advent of Code 2017\n",
    "*Phong Nguyen, Oct 2018*"
   ]
  },
  {
   "cell_type": "markdown",
   "metadata": {},
   "source": [
    "## Lessons Learnt\n",
    "- Day 1: use `list[-1]` to access the last element of the list: good for handling boundary cases\n",
    "- Day 3: generator, 2D points and neighbours\n",
    "- Day 5: in Python we can write 0 < x < 10 instead of an `and`\n",
    "- Day 7: regular expression `re` is awesome, love `\\w` to search for words (excluding any non-alphanumeric letters)"
   ]
  },
  {
   "cell_type": "markdown",
   "metadata": {},
   "source": [
    "### Some utility functions"
   ]
  },
  {
   "cell_type": "code",
   "execution_count": 36,
   "metadata": {
    "collapsed": true
   },
   "outputs": [],
   "source": [
    "import math\n",
    "import re\n",
    "from collections import deque, defaultdict, Counter\n",
    "\n",
    "from numba import jit\n",
    "\n",
    "def Input(day):\n",
    "    \"Return input file.\"\n",
    "    return open('input{}.txt'.format(day))\n",
    "\n",
    "def InputString(day):\n",
    "    \"Return the content of the input file as a string.\"\n",
    "    return Input(day).read()\n",
    "\n",
    "def InputRows(day):\n",
    "    \"Return the content of the input file as a list of string, each for a row.\"\n",
    "    return InputString(day).splitlines()\n",
    "\n",
    "def InputInts(day):\n",
    "    \"Return the content of the input file as a list of integers, each for a row.\"\n",
    "    return [int(x) for x in InputString(day).splitlines()]\n",
    "\n",
    "def ints(start, end, step=1): return range(start, end+1, step)\n",
    "\n",
    "# 2D points\n",
    "UP, LEFT, DOWN, RIGHT = (0, -1), (-1, 0), (0, 1), (1, 0)\n",
    "\n",
    "def add_tuples(t1, t2):\n",
    "     return tuple(sum(x) for x in zip(t1, t2))\n",
    "        \n",
    "def neighbors8(p): \n",
    "    x, y = p\n",
    "    return ((x-1, y-1), (x, y-1), (x+1, y-1), (x-1, y), (x+1, y), (x-1, y+1), (x, y+1), (x+1, y+1))\n",
    "\n",
    "def Mht_distance(p):\n",
    "    return abs(p[0]) + abs(p[1])\n",
    "\n",
    "def argmax(a):\n",
    "    return a.index(max(a))"
   ]
  },
  {
   "cell_type": "markdown",
   "metadata": {},
   "source": [
    "## Day 1: Inverse Captcha\n",
    "[Problem Description](https://adventofcode.com/2017/day/1)"
   ]
  },
  {
   "cell_type": "code",
   "execution_count": 49,
   "metadata": {},
   "outputs": [
    {
     "data": {
      "text/plain": [
       "1175"
      ]
     },
     "execution_count": 49,
     "metadata": {},
     "output_type": "execute_result"
    }
   ],
   "source": [
    "def day1a(digits):\n",
    "    return sum(digits[i] \n",
    "               for i in range(len(digits)) \n",
    "               if digits[i] == digits[i - 1])\n",
    "\n",
    "digits = [int(d) for d in InputString(1)]    \n",
    "day1a(digits)"
   ]
  },
  {
   "cell_type": "markdown",
   "metadata": {},
   "source": [
    "One nice thing here is that `list[-1]` returns the last element of the list. So, no need to handle the circle explicitly."
   ]
  },
  {
   "cell_type": "code",
   "execution_count": 50,
   "metadata": {},
   "outputs": [
    {
     "data": {
      "text/plain": [
       "1166"
      ]
     },
     "execution_count": 50,
     "metadata": {},
     "output_type": "execute_result"
    }
   ],
   "source": [
    "def day1b(digits):\n",
    "    n = len(digits)\n",
    "    return sum(digits[i] \n",
    "               for i in range(n) \n",
    "               if digits[i] == digits[i - n // 2])\n",
    "        \n",
    "day1b(digits)"
   ]
  },
  {
   "cell_type": "markdown",
   "metadata": {},
   "source": [
    "## Day 2: Corruption Checksum\n",
    "[Problem Description](https://adventofcode.com/2017/day/2)"
   ]
  },
  {
   "cell_type": "code",
   "execution_count": 51,
   "metadata": {},
   "outputs": [
    {
     "data": {
      "text/plain": [
       "42299"
      ]
     },
     "execution_count": 51,
     "metadata": {},
     "output_type": "execute_result"
    }
   ],
   "source": [
    "def day2a(array):\n",
    "    return sum(max(nums) - min(nums) for nums in array)\n",
    "\n",
    "array = [[int(s) for s in row.split()] \n",
    "         for row in InputRows(2)]\n",
    "day2a(array)"
   ]
  },
  {
   "cell_type": "code",
   "execution_count": 52,
   "metadata": {},
   "outputs": [
    {
     "data": {
      "text/plain": [
       "277"
      ]
     },
     "execution_count": 52,
     "metadata": {},
     "output_type": "execute_result"
    }
   ],
   "source": [
    "def evenly_devide(nums):\n",
    "    nums = sorted(nums, reverse=True)\n",
    "    n = len(nums)\n",
    "    for i in range(n):\n",
    "        for j in range(i + 1, n):\n",
    "            if nums[i] % nums[j] == 0:\n",
    "                return nums[i] // nums[j]\n",
    "\n",
    "def day2b(array):\n",
    "    return sum(map(evenly_devide, array))\n",
    "\n",
    "day2b(array)"
   ]
  },
  {
   "cell_type": "markdown",
   "metadata": {},
   "source": [
    "## Day 3: Spiral Memory\n",
    "[Problem Description](https://adventofcode.com/2017/day/3)\n",
    "\n",
    "This is the first challenging question in this year. I will generate the locations of squares following the spiral pattern."
   ]
  },
  {
   "cell_type": "code",
   "execution_count": 86,
   "metadata": {},
   "outputs": [
    {
     "data": {
      "text/plain": [
       "480"
      ]
     },
     "execution_count": 86,
     "metadata": {},
     "output_type": "execute_result"
    }
   ],
   "source": [
    "def spiral():\n",
    "    x, y = 0, 0\n",
    "    yield x, y\n",
    "    \n",
    "    # The spiral goes right N steps, up N steps, then left N+1 steps, down N+1 steps, then right/up N+2, etc.\n",
    "    N = 0\n",
    "    while True:\n",
    "        for dx, dy in (RIGHT, UP, LEFT, DOWN):\n",
    "            if dx: N += 1\n",
    "            for _ in range(N):\n",
    "                x += dx\n",
    "                y += dy\n",
    "                yield x, y\n",
    "                \n",
    "def day3a(n):\n",
    "    s = spiral()\n",
    "    for _ in range(n):\n",
    "        pos = next(s)\n",
    "    return Mht_distance(pos)\n",
    "\n",
    "day3a(347991)"
   ]
  },
  {
   "cell_type": "code",
   "execution_count": 88,
   "metadata": {},
   "outputs": [
    {
     "data": {
      "text/plain": [
       "349975"
      ]
     },
     "execution_count": 88,
     "metadata": {},
     "output_type": "execute_result"
    }
   ],
   "source": [
    "def day3b(n):\n",
    "    values = defaultdict(int)\n",
    "    values[(0, 0)] = 1\n",
    "    \n",
    "    s = spiral()\n",
    "    pos = next(s) # Skip the first one as already set to 1\n",
    "    while True:\n",
    "        pos = next(s)\n",
    "        values[pos] = sum(values[p] for p in neighbors8(pos))\n",
    "        if values[pos] > n:\n",
    "            return values[pos]\n",
    "    \n",
    "day3b(347991)"
   ]
  },
  {
   "cell_type": "markdown",
   "metadata": {},
   "source": [
    "## Day 4: High-Entropy Passphrases\n",
    "[Problem Description](https://adventofcode.com/2017/day/4)"
   ]
  },
  {
   "cell_type": "code",
   "execution_count": 9,
   "metadata": {},
   "outputs": [
    {
     "data": {
      "text/plain": [
       "455"
      ]
     },
     "execution_count": 9,
     "metadata": {},
     "output_type": "execute_result"
    }
   ],
   "source": [
    "def is_passphrase(s):\n",
    "    return len(set(s.split())) == len(s.split())\n",
    "\n",
    "def day4a(array):\n",
    "    return sum(map(is_passphrase, array))\n",
    "\n",
    "day4a(InputRows(4))"
   ]
  },
  {
   "cell_type": "code",
   "execution_count": 20,
   "metadata": {},
   "outputs": [
    {
     "data": {
      "text/plain": [
       "186"
      ]
     },
     "execution_count": 20,
     "metadata": {},
     "output_type": "execute_result"
    }
   ],
   "source": [
    "def is_passphrase2(s):\n",
    "    words = [''.join(sorted(w)) for w in s.split()]\n",
    "    return len(set(words)) == len(words)\n",
    "\n",
    "def day4b(array):\n",
    "    return sum(map(is_passphrase2, array))\n",
    "\n",
    "day4b(InputRows(4))"
   ]
  },
  {
   "cell_type": "markdown",
   "metadata": {},
   "source": [
    "## Day 5: A Maze of Twisty Trampolines, All Alike\n",
    "[Problem Description](https://adventofcode.com/2017/day/5)"
   ]
  },
  {
   "cell_type": "code",
   "execution_count": 37,
   "metadata": {},
   "outputs": [
    {
     "data": {
      "text/plain": [
       "342669"
      ]
     },
     "execution_count": 37,
     "metadata": {},
     "output_type": "execute_result"
    }
   ],
   "source": [
    "def day5a(steps):\n",
    "    pos = 0\n",
    "    count = 0\n",
    "    while (0 <= pos < len(steps)):\n",
    "        old_pos = pos\n",
    "        pos += steps[pos]\n",
    "        steps[old_pos] += 1\n",
    "        count += 1\n",
    "        \n",
    "    return count\n",
    "\n",
    "day5a(InputInts(5))"
   ]
  },
  {
   "cell_type": "code",
   "execution_count": 36,
   "metadata": {},
   "outputs": [
    {
     "data": {
      "text/plain": [
       "25136209"
      ]
     },
     "execution_count": 36,
     "metadata": {},
     "output_type": "execute_result"
    }
   ],
   "source": [
    "@jit\n",
    "def day5b(steps):\n",
    "    pos = 0\n",
    "    count = 0\n",
    "    N = len(steps)\n",
    "    while (0 <= pos < N):\n",
    "        old_pos = pos\n",
    "        pos += steps[pos]\n",
    "        offset = (-1 if steps[old_pos] >= 3 else 1)\n",
    "        steps[old_pos] += offset\n",
    "        count += 1\n",
    "        \n",
    "    return count\n",
    "\n",
    "day5b(InputInts(5))"
   ]
  },
  {
   "cell_type": "markdown",
   "metadata": {},
   "source": [
    "Part 2 is really slow, about 10s. Putting the length of steps outside the long while loop helps reduce to 8.5s. Peter Norvig's code is the same but he used `jit` to run faster. Well, with `jit` (particularly `numba`), it gets to less than half a second!!!"
   ]
  },
  {
   "cell_type": "markdown",
   "metadata": {},
   "source": [
    "## Day 6: Memory Reallocation\n",
    "[Problem Description](https://adventofcode.com/2017/day/6)"
   ]
  },
  {
   "cell_type": "code",
   "execution_count": 2,
   "metadata": {},
   "outputs": [
    {
     "data": {
      "text/plain": [
       "5042"
      ]
     },
     "execution_count": 2,
     "metadata": {},
     "output_type": "execute_result"
    }
   ],
   "source": [
    "def redistribute(banks, idx):\n",
    "    n = banks[idx]\n",
    "    l = len(banks)\n",
    "    banks[idx] = 0\n",
    "    for i in range(1, n + 1):\n",
    "        banks[(idx + i) % l] += 1\n",
    "    \n",
    "def day6a(banks):\n",
    "    configs = set()\n",
    "    count = 0\n",
    "    \n",
    "    while True:\n",
    "        t = tuple(banks)\n",
    "        if t in configs:\n",
    "            break\n",
    "            \n",
    "        configs.add(t)\n",
    "        redistribute(banks, argmax(banks))\n",
    "        count += 1\n",
    "\n",
    "    return count\n",
    "\n",
    "banks = [int(x) for x in InputString(6).split()]\n",
    "day6a(banks)"
   ]
  },
  {
   "cell_type": "code",
   "execution_count": 3,
   "metadata": {},
   "outputs": [
    {
     "data": {
      "text/plain": [
       "1086"
      ]
     },
     "execution_count": 3,
     "metadata": {},
     "output_type": "execute_result"
    }
   ],
   "source": [
    "def day6b(banks):\n",
    "    configs = dict() # save the number of cycles when reaching a config\n",
    "    count = 0\n",
    "    \n",
    "    while True:\n",
    "        t = tuple(banks)\n",
    "        if t in configs:\n",
    "            return count - configs[t]\n",
    "            \n",
    "        configs[t] = count\n",
    "        redistribute(banks, argmax(banks))\n",
    "        count += 1\n",
    "    \n",
    "banks = [int(x) for x in InputString(6).split()]\n",
    "day6b(banks)"
   ]
  },
  {
   "cell_type": "markdown",
   "metadata": {},
   "source": [
    "## Day 7: Recursive Circus\n",
    "[Problem Description](https://adventofcode.com/2017/day/7)"
   ]
  },
  {
   "cell_type": "code",
   "execution_count": 37,
   "metadata": {},
   "outputs": [
    {
     "data": {
      "text/plain": [
       "'hmvwl'"
      ]
     },
     "execution_count": 37,
     "metadata": {},
     "output_type": "execute_result"
    }
   ],
   "source": [
    "def build_tree(rows):\n",
    "    def parse(row):\n",
    "        \"Return name, weight, children names\"\n",
    "        name, weight, *rest = re.findall(r'\\w+', row)\n",
    "        return name, int(weight), rest\n",
    "\n",
    "    node_lookup = defaultdict(dict)\n",
    "    \n",
    "    for row in rows:\n",
    "        name, weight, children = parse(row)\n",
    "        node = node_lookup[name]\n",
    "        node['name'] = name\n",
    "        node['weight'] = node['original_weight']= weight\n",
    "        node['children'] = []\n",
    "        for c in children:\n",
    "            node['children'].append(node_lookup[c])\n",
    "            node_lookup[c]['parent'] = node       \n",
    "    \n",
    "    # Return the root of the tree: the one having children but not parent\n",
    "    for n in node_lookup.values():\n",
    "        if 'parent' not in n:\n",
    "            return n, node_lookup\n",
    "    \n",
    "def day7a(rows):\n",
    "    t, _ = build_tree(rows)\n",
    "    return t['name']\n",
    "    \n",
    "day7a(InputRows(7))"
   ]
  },
  {
   "cell_type": "code",
   "execution_count": 42,
   "metadata": {},
   "outputs": [
    {
     "data": {
      "text/plain": [
       "1853"
      ]
     },
     "execution_count": 42,
     "metadata": {},
     "output_type": "execute_result"
    }
   ],
   "source": [
    "def print_tree(node):\n",
    "    indent = 3\n",
    "    print(indent * node['depth'] * ' ', node['depth'], node['name'], '(' + str(node['original_weight']) + ')')\n",
    "    for c in node['children']:\n",
    "        print_tree(c)\n",
    "    \n",
    "def day7b(rows):\n",
    "    root, node_lookup = build_tree(rows)\n",
    "    \n",
    "    # Assign depths: root = 0\n",
    "    def assign_depth(node):\n",
    "        for c in node['children']:\n",
    "            c['depth'] = node['depth'] + 1\n",
    "            assign_depth(c)\n",
    "    \n",
    "    root['depth'] = 0\n",
    "    assign_depth(root)\n",
    "\n",
    "    max_depth = max(n['depth'] for n in node_lookup.values())\n",
    "\n",
    "    # Checking weight from the leaf\n",
    "    for level in range(max_depth - 1, -1, -1):\n",
    "        nodes = [n for n in node_lookup.values() if n['depth'] == level]\n",
    "        for n in nodes:\n",
    "            if n['children']:\n",
    "                weights = [c['weight'] for c in n['children']]\n",
    "                if len(set(weights)) == 1:\n",
    "                    n['weight'] += sum(weights)\n",
    "                else:\n",
    "                    correct_weight = Counter(weights).most_common(1)[0][0]\n",
    "                    wrong_weight = Counter(weights).most_common()[-1][0]\n",
    "                    diff = correct_weight - wrong_weight\n",
    "                    wrong_node = next(x for x in n['children'] if x['weight'] == wrong_weight)\n",
    "                    return wrong_node['original_weight'] + diff\n",
    "\n",
    "day7b(InputRows(7))"
   ]
  },
  {
   "cell_type": "markdown",
   "metadata": {},
   "source": [
    "Took long time for me to do the second part because I assume that the tree is balance, i.e., all leaf nodes have the same height."
   ]
  }
 ],
 "metadata": {
  "kernelspec": {
   "display_name": "Python 3",
   "language": "python",
   "name": "python3"
  },
  "language_info": {
   "codemirror_mode": {
    "name": "ipython",
    "version": 3
   },
   "file_extension": ".py",
   "mimetype": "text/x-python",
   "name": "python",
   "nbconvert_exporter": "python",
   "pygments_lexer": "ipython3",
   "version": "3.6.3"
  },
  "toc": {
   "base_numbering": 1,
   "nav_menu": {},
   "number_sections": false,
   "sideBar": true,
   "skip_h1_title": true,
   "title_cell": "Contents",
   "title_sidebar": "Contents",
   "toc_cell": false,
   "toc_position": {},
   "toc_section_display": true,
   "toc_window_display": false
  }
 },
 "nbformat": 4,
 "nbformat_minor": 2
}
